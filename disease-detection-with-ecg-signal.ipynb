{
 "cells": [
  {
   "cell_type": "markdown",
   "id": "4a693815",
   "metadata": {
    "papermill": {
     "duration": 0.011358,
     "end_time": "2024-04-03T05:05:04.574426",
     "exception": false,
     "start_time": "2024-04-03T05:05:04.563068",
     "status": "completed"
    },
    "tags": []
   },
   "source": [
    "# **About the Dataset**\n",
    "---\n",
    "\n",
    "- `RECORD` : Serial Number\n",
    "- `hbpermin` : Heart Beats per minute\n",
    "- `Pseg` : P wave segment length in ms\n",
    "- `PQseg` : PQ segment length in ms\n",
    "- `QRSseg` : QRS segment length in ms\n",
    "- `QRseg` : QR segment length in ms\n",
    "- `QTseg` : QT segment length in ms\n",
    "- `RSseg` : RS segment length in ms\n",
    "- `STseg` : ST segment length in ms\n",
    "- `Tseg` : T segment length in ms\n",
    "- `PTseg` : PT segment length in ms\n",
    "- `ECGseg` : ECG segment length in ms\n",
    "- `QRtoQSdur` : Duration from QR to QS in ms\n",
    "- `RStoQSdur` : Duration from RS to QS in ms\n",
    "- `RRmean` : Mean RR interval in ms\n",
    "- `PPmean` : Mean PP interval in ms\n",
    "- `PQdis` : PQ interval distance in ms\n",
    "- `PonQdis` : Distance from P wave to Q wave in ms\n",
    "- `PRdis` : PR interval distance in ms\n",
    "- `PonRdis` : Distance from P wave to R wave in ms\n",
    "- `PSdis` : PS interval distance in ms\n",
    "- `PonSdis` : Distance from P wave to S wave in ms\n",
    "- `PTdis` : PT interval distance in ms\n",
    "- `PonTdis` : Distance from P wave to T wave in ms\n",
    "- `PToffdis` : P to T offset distance in ms\n",
    "- `QRdis` : QR interval distance in ms\n",
    "- `QSdis` : QS interval distance in ms\n",
    "- `QTdis` : QT interval distance in ms\n",
    "- `QToffdis` : QT offset distance in ms\n",
    "- `RSdis` : RS interval distance in ms\n",
    "- `RTdis` : RT interval distance in ms\n",
    "- `RToffdis` : RT offset distance in ms\n",
    "- `STdis` : ST interval distance in ms\n",
    "- `SToffdis` : ST offset distance in ms\n",
    "- `PonToffdis` : Distance from P wave to T offset in ms\n",
    "- `PonPQang` : Angle between P wave and PQ segment in degrees\n",
    "- `PQRang` : Angle between P wave and QR segment in degrees\n",
    "- `QRSang` : Angle between QRS segment in degrees\n",
    "- `RSTang` : Angle between RS segment in degrees\n",
    "- `STToffang` : Angle between ST segment and ST offset in degrees\n",
    "- `RRTot` : Total RR interval in ms\n",
    "- `NNTot` : Total NN interval in ms\n",
    "- `SDRR` : Standard deviation of RR intervals in ms\n",
    "- `IBIM` : Interbeat interval mean in ms\n",
    "- `IBISD` : Interbeat interval standard deviation in ms\n",
    "- `SDSD` : Standard deviation of SD intervals in ms\n",
    "- `RMSSD` : Root mean square of successive differences in ms\n",
    "- `QRSarea` : Area under the QRS complex in mV*ms\n",
    "- `QRSperi` : Perimeter of the QRS complex in ms\n",
    "- `PQslope` : Slope of PQ segment in mV/ms\n",
    "- `QRslope` : Slope of QR segment in mV/ms\n",
    "- `RSslope` : Slope of RS segment in mV/ms\n",
    "- `STslope` : Slope of ST segment in mV/ms\n",
    "- `NN50` : Number of pairs of successive NN intervals differing by more than 50 ms\n",
    "- `pNN50` : Proportion of NN50 divided by total number of NN intervals\n",
    "- `ECG_signal` : ECG signal waveform data"
   ]
  },
  {
   "cell_type": "markdown",
   "id": "b8f1e811",
   "metadata": {
    "papermill": {
     "duration": 0.008355,
     "end_time": "2024-04-03T05:05:04.592661",
     "exception": false,
     "start_time": "2024-04-03T05:05:04.584306",
     "status": "completed"
    },
    "tags": []
   },
   "source": [
    "# **Reading Data**\n",
    "---"
   ]
  },
  {
   "cell_type": "code",
   "execution_count": 1,
   "id": "d71ff516",
   "metadata": {
    "_cell_guid": "b1076dfc-b9ad-4769-8c92-a6c4dae69d19",
    "_uuid": "8f2839f25d086af736a60e9eeb907d3b93b6e0e5",
    "execution": {
     "iopub.execute_input": "2024-04-03T05:05:04.615459Z",
     "iopub.status.busy": "2024-04-03T05:05:04.614856Z",
     "iopub.status.idle": "2024-04-03T05:05:07.421208Z",
     "shell.execute_reply": "2024-04-03T05:05:07.419551Z"
    },
    "papermill": {
     "duration": 2.821157,
     "end_time": "2024-04-03T05:05:07.424519",
     "exception": false,
     "start_time": "2024-04-03T05:05:04.603362",
     "status": "completed"
    },
    "tags": []
   },
   "outputs": [],
   "source": [
    "# importing required libraries\n",
    "import numpy as np\n",
    "import pandas as pd\n",
    "\n",
    "import matplotlib.pyplot as plt\n",
    "import seaborn as sns\n",
    "\n",
    "import os"
   ]
  },
  {
   "cell_type": "code",
   "execution_count": 2,
   "id": "dd791c29",
   "metadata": {
    "execution": {
     "iopub.execute_input": "2024-04-03T05:05:07.444946Z",
     "iopub.status.busy": "2024-04-03T05:05:07.444270Z",
     "iopub.status.idle": "2024-04-03T05:05:07.456482Z",
     "shell.execute_reply": "2024-04-03T05:05:07.454918Z"
    },
    "papermill": {
     "duration": 0.025722,
     "end_time": "2024-04-03T05:05:07.459454",
     "exception": false,
     "start_time": "2024-04-03T05:05:07.433732",
     "status": "completed"
    },
    "tags": []
   },
   "outputs": [],
   "source": [
    "# finding source location\n",
    "for dirname, _, filenames in os.walk('/kaggle/input'):\n",
    "    for filename in filenames:\n",
    "        src = os.path.join(dirname, filename)"
   ]
  },
  {
   "cell_type": "code",
   "execution_count": 3,
   "id": "75cba28e",
   "metadata": {
    "execution": {
     "iopub.execute_input": "2024-04-03T05:05:07.478699Z",
     "iopub.status.busy": "2024-04-03T05:05:07.478242Z",
     "iopub.status.idle": "2024-04-03T05:05:07.529550Z",
     "shell.execute_reply": "2024-04-03T05:05:07.528177Z"
    },
    "papermill": {
     "duration": 0.064588,
     "end_time": "2024-04-03T05:05:07.532487",
     "exception": false,
     "start_time": "2024-04-03T05:05:07.467899",
     "status": "completed"
    },
    "tags": []
   },
   "outputs": [],
   "source": [
    "# importing data\n",
    "df = pd.read_csv(src)"
   ]
  },
  {
   "cell_type": "code",
   "execution_count": 4,
   "id": "5a255450",
   "metadata": {
    "execution": {
     "iopub.execute_input": "2024-04-03T05:05:07.552639Z",
     "iopub.status.busy": "2024-04-03T05:05:07.551529Z",
     "iopub.status.idle": "2024-04-03T05:05:07.599314Z",
     "shell.execute_reply": "2024-04-03T05:05:07.598131Z"
    },
    "papermill": {
     "duration": 0.061038,
     "end_time": "2024-04-03T05:05:07.602119",
     "exception": false,
     "start_time": "2024-04-03T05:05:07.541081",
     "status": "completed"
    },
    "tags": []
   },
   "outputs": [
    {
     "data": {
      "text/html": [
       "<div>\n",
       "<style scoped>\n",
       "    .dataframe tbody tr th:only-of-type {\n",
       "        vertical-align: middle;\n",
       "    }\n",
       "\n",
       "    .dataframe tbody tr th {\n",
       "        vertical-align: top;\n",
       "    }\n",
       "\n",
       "    .dataframe thead th {\n",
       "        text-align: right;\n",
       "    }\n",
       "</style>\n",
       "<table border=\"1\" class=\"dataframe\">\n",
       "  <thead>\n",
       "    <tr style=\"text-align: right;\">\n",
       "      <th></th>\n",
       "      <th>RECORD</th>\n",
       "      <th>hbpermin</th>\n",
       "      <th>Pseg</th>\n",
       "      <th>PQseg</th>\n",
       "      <th>QRSseg</th>\n",
       "      <th>QRseg</th>\n",
       "      <th>QTseg</th>\n",
       "      <th>RSseg</th>\n",
       "      <th>STseg</th>\n",
       "      <th>Tseg</th>\n",
       "      <th>...</th>\n",
       "      <th>RMSSD</th>\n",
       "      <th>QRSarea</th>\n",
       "      <th>QRSperi</th>\n",
       "      <th>PQslope</th>\n",
       "      <th>QRslope</th>\n",
       "      <th>RSslope</th>\n",
       "      <th>STslope</th>\n",
       "      <th>NN50</th>\n",
       "      <th>pNN50</th>\n",
       "      <th>ECG_signal</th>\n",
       "    </tr>\n",
       "  </thead>\n",
       "  <tbody>\n",
       "    <tr>\n",
       "      <th>0</th>\n",
       "      <td>1</td>\n",
       "      <td>74.925669</td>\n",
       "      <td>0.076508</td>\n",
       "      <td>0.108889</td>\n",
       "      <td>0.088254</td>\n",
       "      <td>0.043571</td>\n",
       "      <td>0.193016</td>\n",
       "      <td>0.044683</td>\n",
       "      <td>0.104762</td>\n",
       "      <td>0.130476</td>\n",
       "      <td>...</td>\n",
       "      <td>292.296636</td>\n",
       "      <td>18.457618</td>\n",
       "      <td>63.615239</td>\n",
       "      <td>-0.014364</td>\n",
       "      <td>0.075270</td>\n",
       "      <td>-0.070846</td>\n",
       "      <td>0.012606</td>\n",
       "      <td>2</td>\n",
       "      <td>5.882353</td>\n",
       "      <td>ARR</td>\n",
       "    </tr>\n",
       "    <tr>\n",
       "      <th>1</th>\n",
       "      <td>2</td>\n",
       "      <td>68.503469</td>\n",
       "      <td>0.072483</td>\n",
       "      <td>0.096181</td>\n",
       "      <td>0.093924</td>\n",
       "      <td>0.046267</td>\n",
       "      <td>0.193490</td>\n",
       "      <td>0.047656</td>\n",
       "      <td>0.099566</td>\n",
       "      <td>0.089149</td>\n",
       "      <td>...</td>\n",
       "      <td>318.563915</td>\n",
       "      <td>23.043230</td>\n",
       "      <td>67.787773</td>\n",
       "      <td>-0.021207</td>\n",
       "      <td>0.083773</td>\n",
       "      <td>-0.077458</td>\n",
       "      <td>0.016175</td>\n",
       "      <td>1</td>\n",
       "      <td>3.225806</td>\n",
       "      <td>ARR</td>\n",
       "    </tr>\n",
       "    <tr>\n",
       "      <th>2</th>\n",
       "      <td>3</td>\n",
       "      <td>83.488603</td>\n",
       "      <td>0.071154</td>\n",
       "      <td>0.086610</td>\n",
       "      <td>0.039530</td>\n",
       "      <td>0.018590</td>\n",
       "      <td>0.132479</td>\n",
       "      <td>0.020940</td>\n",
       "      <td>0.092949</td>\n",
       "      <td>0.094444</td>\n",
       "      <td>...</td>\n",
       "      <td>273.165412</td>\n",
       "      <td>10.756353</td>\n",
       "      <td>29.253827</td>\n",
       "      <td>-0.042542</td>\n",
       "      <td>NaN</td>\n",
       "      <td>NaN</td>\n",
       "      <td>0.027131</td>\n",
       "      <td>16</td>\n",
       "      <td>42.105263</td>\n",
       "      <td>ARR</td>\n",
       "    </tr>\n",
       "    <tr>\n",
       "      <th>3</th>\n",
       "      <td>4</td>\n",
       "      <td>68.503469</td>\n",
       "      <td>0.082812</td>\n",
       "      <td>0.108160</td>\n",
       "      <td>0.090365</td>\n",
       "      <td>0.045226</td>\n",
       "      <td>0.188802</td>\n",
       "      <td>0.045139</td>\n",
       "      <td>0.098437</td>\n",
       "      <td>0.088281</td>\n",
       "      <td>...</td>\n",
       "      <td>313.046941</td>\n",
       "      <td>23.845086</td>\n",
       "      <td>65.228737</td>\n",
       "      <td>-0.017806</td>\n",
       "      <td>0.091591</td>\n",
       "      <td>-0.088559</td>\n",
       "      <td>0.017022</td>\n",
       "      <td>2</td>\n",
       "      <td>6.451613</td>\n",
       "      <td>ARR</td>\n",
       "    </tr>\n",
       "    <tr>\n",
       "      <th>4</th>\n",
       "      <td>5</td>\n",
       "      <td>82.080000</td>\n",
       "      <td>0.070760</td>\n",
       "      <td>0.102632</td>\n",
       "      <td>0.101023</td>\n",
       "      <td>0.049415</td>\n",
       "      <td>0.193713</td>\n",
       "      <td>0.051608</td>\n",
       "      <td>0.092690</td>\n",
       "      <td>0.085965</td>\n",
       "      <td>...</td>\n",
       "      <td>263.225676</td>\n",
       "      <td>20.942791</td>\n",
       "      <td>72.830353</td>\n",
       "      <td>-0.016650</td>\n",
       "      <td>0.064547</td>\n",
       "      <td>-0.062246</td>\n",
       "      <td>0.016191</td>\n",
       "      <td>2</td>\n",
       "      <td>5.405405</td>\n",
       "      <td>ARR</td>\n",
       "    </tr>\n",
       "  </tbody>\n",
       "</table>\n",
       "<p>5 rows × 56 columns</p>\n",
       "</div>"
      ],
      "text/plain": [
       "   RECORD   hbpermin      Pseg     PQseg    QRSseg     QRseg     QTseg  \\\n",
       "0       1  74.925669  0.076508  0.108889  0.088254  0.043571  0.193016   \n",
       "1       2  68.503469  0.072483  0.096181  0.093924  0.046267  0.193490   \n",
       "2       3  83.488603  0.071154  0.086610  0.039530  0.018590  0.132479   \n",
       "3       4  68.503469  0.082812  0.108160  0.090365  0.045226  0.188802   \n",
       "4       5  82.080000  0.070760  0.102632  0.101023  0.049415  0.193713   \n",
       "\n",
       "      RSseg     STseg      Tseg  ...       RMSSD    QRSarea    QRSperi  \\\n",
       "0  0.044683  0.104762  0.130476  ...  292.296636  18.457618  63.615239   \n",
       "1  0.047656  0.099566  0.089149  ...  318.563915  23.043230  67.787773   \n",
       "2  0.020940  0.092949  0.094444  ...  273.165412  10.756353  29.253827   \n",
       "3  0.045139  0.098437  0.088281  ...  313.046941  23.845086  65.228737   \n",
       "4  0.051608  0.092690  0.085965  ...  263.225676  20.942791  72.830353   \n",
       "\n",
       "    PQslope   QRslope   RSslope   STslope  NN50      pNN50  ECG_signal  \n",
       "0 -0.014364  0.075270 -0.070846  0.012606     2   5.882353         ARR  \n",
       "1 -0.021207  0.083773 -0.077458  0.016175     1   3.225806         ARR  \n",
       "2 -0.042542       NaN       NaN  0.027131    16  42.105263         ARR  \n",
       "3 -0.017806  0.091591 -0.088559  0.017022     2   6.451613         ARR  \n",
       "4 -0.016650  0.064547 -0.062246  0.016191     2   5.405405         ARR  \n",
       "\n",
       "[5 rows x 56 columns]"
      ]
     },
     "execution_count": 4,
     "metadata": {},
     "output_type": "execute_result"
    }
   ],
   "source": [
    "df.head()"
   ]
  },
  {
   "cell_type": "markdown",
   "id": "d30eb4d2",
   "metadata": {
    "papermill": {
     "duration": 0.008497,
     "end_time": "2024-04-03T05:05:07.620568",
     "exception": false,
     "start_time": "2024-04-03T05:05:07.612071",
     "status": "completed"
    },
    "tags": []
   },
   "source": [
    "# **Analysing Data**\n",
    "---"
   ]
  },
  {
   "cell_type": "code",
   "execution_count": 5,
   "id": "bddfb0f2",
   "metadata": {
    "execution": {
     "iopub.execute_input": "2024-04-03T05:05:07.640010Z",
     "iopub.status.busy": "2024-04-03T05:05:07.639622Z",
     "iopub.status.idle": "2024-04-03T05:05:07.646219Z",
     "shell.execute_reply": "2024-04-03T05:05:07.645352Z"
    },
    "papermill": {
     "duration": 0.019156,
     "end_time": "2024-04-03T05:05:07.648498",
     "exception": false,
     "start_time": "2024-04-03T05:05:07.629342",
     "status": "completed"
    },
    "tags": []
   },
   "outputs": [
    {
     "data": {
      "text/plain": [
       "(1200, 56)"
      ]
     },
     "execution_count": 5,
     "metadata": {},
     "output_type": "execute_result"
    }
   ],
   "source": [
    "df.shape"
   ]
  },
  {
   "cell_type": "code",
   "execution_count": 6,
   "id": "5ec88205",
   "metadata": {
    "execution": {
     "iopub.execute_input": "2024-04-03T05:05:07.669134Z",
     "iopub.status.busy": "2024-04-03T05:05:07.667912Z",
     "iopub.status.idle": "2024-04-03T05:05:07.697122Z",
     "shell.execute_reply": "2024-04-03T05:05:07.695877Z"
    },
    "papermill": {
     "duration": 0.042734,
     "end_time": "2024-04-03T05:05:07.700150",
     "exception": false,
     "start_time": "2024-04-03T05:05:07.657416",
     "status": "completed"
    },
    "tags": []
   },
   "outputs": [
    {
     "name": "stdout",
     "output_type": "stream",
     "text": [
      "<class 'pandas.core.frame.DataFrame'>\n",
      "RangeIndex: 1200 entries, 0 to 1199\n",
      "Data columns (total 56 columns):\n",
      " #   Column      Non-Null Count  Dtype  \n",
      "---  ------      --------------  -----  \n",
      " 0   RECORD      1200 non-null   int64  \n",
      " 1   hbpermin    1200 non-null   float64\n",
      " 2   Pseg        1200 non-null   float64\n",
      " 3   PQseg       1200 non-null   float64\n",
      " 4   QRSseg      1200 non-null   float64\n",
      " 5   QRseg       1200 non-null   float64\n",
      " 6   QTseg       1200 non-null   float64\n",
      " 7   RSseg       1200 non-null   float64\n",
      " 8   STseg       1200 non-null   float64\n",
      " 9   Tseg        1200 non-null   float64\n",
      " 10  PTseg       1200 non-null   float64\n",
      " 11  ECGseg      1200 non-null   float64\n",
      " 12  QRtoQSdur   431 non-null    float64\n",
      " 13  RStoQSdur   431 non-null    float64\n",
      " 14  RRmean      1200 non-null   float64\n",
      " 15  PPmean      1200 non-null   float64\n",
      " 16  PQdis       1200 non-null   float64\n",
      " 17  PonQdis     1200 non-null   float64\n",
      " 18  PRdis       1200 non-null   float64\n",
      " 19  PonRdis     1200 non-null   float64\n",
      " 20  PSdis       1200 non-null   float64\n",
      " 21  PonSdis     1200 non-null   float64\n",
      " 22  PTdis       1200 non-null   float64\n",
      " 23  PonTdis     1200 non-null   float64\n",
      " 24  PToffdis    1200 non-null   float64\n",
      " 25  QRdis       1200 non-null   float64\n",
      " 26  QSdis       1200 non-null   float64\n",
      " 27  QTdis       1200 non-null   float64\n",
      " 28  QToffdis    1200 non-null   float64\n",
      " 29  RSdis       1200 non-null   float64\n",
      " 30  RTdis       1200 non-null   float64\n",
      " 31  RToffdis    1200 non-null   float64\n",
      " 32  STdis       1200 non-null   float64\n",
      " 33  SToffdis    1200 non-null   float64\n",
      " 34  PonToffdis  1200 non-null   float64\n",
      " 35  PonPQang    643 non-null    float64\n",
      " 36  PQRang      432 non-null    float64\n",
      " 37  QRSang      431 non-null    float64\n",
      " 38  RSTang      431 non-null    float64\n",
      " 39  STToffang   774 non-null    float64\n",
      " 40  RRTot       1200 non-null   int64  \n",
      " 41  NNTot       1200 non-null   int64  \n",
      " 42  SDRR        1200 non-null   float64\n",
      " 43  IBIM        1200 non-null   float64\n",
      " 44  IBISD       1200 non-null   float64\n",
      " 45  SDSD        1200 non-null   float64\n",
      " 46  RMSSD       1200 non-null   float64\n",
      " 47  QRSarea     1200 non-null   float64\n",
      " 48  QRSperi     1200 non-null   float64\n",
      " 49  PQslope     1200 non-null   float64\n",
      " 50  QRslope     432 non-null    float64\n",
      " 51  RSslope     431 non-null    float64\n",
      " 52  STslope     1200 non-null   float64\n",
      " 53  NN50        1200 non-null   int64  \n",
      " 54  pNN50       1200 non-null   float64\n",
      " 55  ECG_signal  1200 non-null   object \n",
      "dtypes: float64(51), int64(4), object(1)\n",
      "memory usage: 525.1+ KB\n"
     ]
    }
   ],
   "source": [
    "df.info()"
   ]
  },
  {
   "cell_type": "code",
   "execution_count": 7,
   "id": "6c772356",
   "metadata": {
    "execution": {
     "iopub.execute_input": "2024-04-03T05:05:07.722049Z",
     "iopub.status.busy": "2024-04-03T05:05:07.720821Z",
     "iopub.status.idle": "2024-04-03T05:05:07.868661Z",
     "shell.execute_reply": "2024-04-03T05:05:07.867379Z"
    },
    "papermill": {
     "duration": 0.161635,
     "end_time": "2024-04-03T05:05:07.871342",
     "exception": false,
     "start_time": "2024-04-03T05:05:07.709707",
     "status": "completed"
    },
    "tags": []
   },
   "outputs": [
    {
     "data": {
      "text/html": [
       "<div>\n",
       "<style scoped>\n",
       "    .dataframe tbody tr th:only-of-type {\n",
       "        vertical-align: middle;\n",
       "    }\n",
       "\n",
       "    .dataframe tbody tr th {\n",
       "        vertical-align: top;\n",
       "    }\n",
       "\n",
       "    .dataframe thead th {\n",
       "        text-align: right;\n",
       "    }\n",
       "</style>\n",
       "<table border=\"1\" class=\"dataframe\">\n",
       "  <thead>\n",
       "    <tr style=\"text-align: right;\">\n",
       "      <th></th>\n",
       "      <th>RECORD</th>\n",
       "      <th>hbpermin</th>\n",
       "      <th>Pseg</th>\n",
       "      <th>PQseg</th>\n",
       "      <th>QRSseg</th>\n",
       "      <th>QRseg</th>\n",
       "      <th>QTseg</th>\n",
       "      <th>RSseg</th>\n",
       "      <th>STseg</th>\n",
       "      <th>Tseg</th>\n",
       "      <th>...</th>\n",
       "      <th>SDSD</th>\n",
       "      <th>RMSSD</th>\n",
       "      <th>QRSarea</th>\n",
       "      <th>QRSperi</th>\n",
       "      <th>PQslope</th>\n",
       "      <th>QRslope</th>\n",
       "      <th>RSslope</th>\n",
       "      <th>STslope</th>\n",
       "      <th>NN50</th>\n",
       "      <th>pNN50</th>\n",
       "    </tr>\n",
       "  </thead>\n",
       "  <tbody>\n",
       "    <tr>\n",
       "      <th>count</th>\n",
       "      <td>1200.000000</td>\n",
       "      <td>1200.000000</td>\n",
       "      <td>1200.000000</td>\n",
       "      <td>1200.000000</td>\n",
       "      <td>1200.000000</td>\n",
       "      <td>1200.000000</td>\n",
       "      <td>1200.000000</td>\n",
       "      <td>1200.000000</td>\n",
       "      <td>1200.000000</td>\n",
       "      <td>1200.000000</td>\n",
       "      <td>...</td>\n",
       "      <td>1200.000000</td>\n",
       "      <td>1200.000000</td>\n",
       "      <td>1200.000000</td>\n",
       "      <td>1200.000000</td>\n",
       "      <td>1200.000000</td>\n",
       "      <td>432.000000</td>\n",
       "      <td>431.000000</td>\n",
       "      <td>1200.000000</td>\n",
       "      <td>1200.000000</td>\n",
       "      <td>1200.000000</td>\n",
       "    </tr>\n",
       "    <tr>\n",
       "      <th>mean</th>\n",
       "      <td>600.500000</td>\n",
       "      <td>81.893980</td>\n",
       "      <td>0.060902</td>\n",
       "      <td>0.078099</td>\n",
       "      <td>0.048238</td>\n",
       "      <td>0.024437</td>\n",
       "      <td>0.141541</td>\n",
       "      <td>0.023800</td>\n",
       "      <td>0.093303</td>\n",
       "      <td>0.102714</td>\n",
       "      <td>...</td>\n",
       "      <td>42.484060</td>\n",
       "      <td>199.417894</td>\n",
       "      <td>7.675047</td>\n",
       "      <td>23.915846</td>\n",
       "      <td>-0.071647</td>\n",
       "      <td>0.141737</td>\n",
       "      <td>-0.150496</td>\n",
       "      <td>0.041659</td>\n",
       "      <td>6.442500</td>\n",
       "      <td>8.112425</td>\n",
       "    </tr>\n",
       "    <tr>\n",
       "      <th>std</th>\n",
       "      <td>346.554469</td>\n",
       "      <td>19.324351</td>\n",
       "      <td>0.009453</td>\n",
       "      <td>0.019897</td>\n",
       "      <td>0.034649</td>\n",
       "      <td>0.017501</td>\n",
       "      <td>0.029225</td>\n",
       "      <td>0.017175</td>\n",
       "      <td>0.013332</td>\n",
       "      <td>0.022594</td>\n",
       "      <td>...</td>\n",
       "      <td>105.722123</td>\n",
       "      <td>112.292014</td>\n",
       "      <td>8.452832</td>\n",
       "      <td>25.070324</td>\n",
       "      <td>0.049705</td>\n",
       "      <td>0.073086</td>\n",
       "      <td>0.077532</td>\n",
       "      <td>0.026456</td>\n",
       "      <td>7.748445</td>\n",
       "      <td>10.325033</td>\n",
       "    </tr>\n",
       "    <tr>\n",
       "      <th>min</th>\n",
       "      <td>1.000000</td>\n",
       "      <td>12.857143</td>\n",
       "      <td>0.021556</td>\n",
       "      <td>0.044526</td>\n",
       "      <td>0.000000</td>\n",
       "      <td>0.000000</td>\n",
       "      <td>0.098761</td>\n",
       "      <td>0.000000</td>\n",
       "      <td>0.052338</td>\n",
       "      <td>0.034936</td>\n",
       "      <td>...</td>\n",
       "      <td>0.800624</td>\n",
       "      <td>61.711281</td>\n",
       "      <td>0.000000</td>\n",
       "      <td>0.000000</td>\n",
       "      <td>-0.219938</td>\n",
       "      <td>0.028660</td>\n",
       "      <td>-0.315525</td>\n",
       "      <td>0.008183</td>\n",
       "      <td>0.000000</td>\n",
       "      <td>0.000000</td>\n",
       "    </tr>\n",
       "    <tr>\n",
       "      <th>25%</th>\n",
       "      <td>300.750000</td>\n",
       "      <td>67.563000</td>\n",
       "      <td>0.053943</td>\n",
       "      <td>0.060344</td>\n",
       "      <td>0.015101</td>\n",
       "      <td>0.007804</td>\n",
       "      <td>0.116016</td>\n",
       "      <td>0.007143</td>\n",
       "      <td>0.089423</td>\n",
       "      <td>0.090046</td>\n",
       "      <td>...</td>\n",
       "      <td>4.060951</td>\n",
       "      <td>123.147741</td>\n",
       "      <td>0.000000</td>\n",
       "      <td>0.124186</td>\n",
       "      <td>-0.106660</td>\n",
       "      <td>0.082613</td>\n",
       "      <td>-0.240304</td>\n",
       "      <td>0.023853</td>\n",
       "      <td>1.000000</td>\n",
       "      <td>0.613497</td>\n",
       "    </tr>\n",
       "    <tr>\n",
       "      <th>50%</th>\n",
       "      <td>600.500000</td>\n",
       "      <td>79.872000</td>\n",
       "      <td>0.060642</td>\n",
       "      <td>0.075184</td>\n",
       "      <td>0.044692</td>\n",
       "      <td>0.022676</td>\n",
       "      <td>0.137019</td>\n",
       "      <td>0.021965</td>\n",
       "      <td>0.097825</td>\n",
       "      <td>0.099210</td>\n",
       "      <td>...</td>\n",
       "      <td>11.265829</td>\n",
       "      <td>183.603851</td>\n",
       "      <td>5.228299</td>\n",
       "      <td>19.904060</td>\n",
       "      <td>-0.058518</td>\n",
       "      <td>0.108418</td>\n",
       "      <td>-0.116241</td>\n",
       "      <td>0.034460</td>\n",
       "      <td>3.000000</td>\n",
       "      <td>3.680982</td>\n",
       "    </tr>\n",
       "    <tr>\n",
       "      <th>75%</th>\n",
       "      <td>900.250000</td>\n",
       "      <td>96.000000</td>\n",
       "      <td>0.066849</td>\n",
       "      <td>0.095190</td>\n",
       "      <td>0.083032</td>\n",
       "      <td>0.041915</td>\n",
       "      <td>0.166314</td>\n",
       "      <td>0.041097</td>\n",
       "      <td>0.101200</td>\n",
       "      <td>0.112408</td>\n",
       "      <td>...</td>\n",
       "      <td>44.785825</td>\n",
       "      <td>248.101035</td>\n",
       "      <td>14.355389</td>\n",
       "      <td>46.194325</td>\n",
       "      <td>-0.027685</td>\n",
       "      <td>0.229659</td>\n",
       "      <td>-0.087565</td>\n",
       "      <td>0.049778</td>\n",
       "      <td>10.000000</td>\n",
       "      <td>12.883436</td>\n",
       "    </tr>\n",
       "    <tr>\n",
       "      <th>max</th>\n",
       "      <td>1200.000000</td>\n",
       "      <td>160.500000</td>\n",
       "      <td>0.095317</td>\n",
       "      <td>0.145577</td>\n",
       "      <td>0.120160</td>\n",
       "      <td>0.065278</td>\n",
       "      <td>0.211111</td>\n",
       "      <td>0.058333</td>\n",
       "      <td>0.138444</td>\n",
       "      <td>0.198413</td>\n",
       "      <td>...</td>\n",
       "      <td>1725.927603</td>\n",
       "      <td>1478.488460</td>\n",
       "      <td>33.131007</td>\n",
       "      <td>86.577082</td>\n",
       "      <td>-0.005427</td>\n",
       "      <td>0.270786</td>\n",
       "      <td>-0.027983</td>\n",
       "      <td>0.164633</td>\n",
       "      <td>37.000000</td>\n",
       "      <td>52.727273</td>\n",
       "    </tr>\n",
       "  </tbody>\n",
       "</table>\n",
       "<p>8 rows × 55 columns</p>\n",
       "</div>"
      ],
      "text/plain": [
       "            RECORD     hbpermin         Pseg        PQseg       QRSseg  \\\n",
       "count  1200.000000  1200.000000  1200.000000  1200.000000  1200.000000   \n",
       "mean    600.500000    81.893980     0.060902     0.078099     0.048238   \n",
       "std     346.554469    19.324351     0.009453     0.019897     0.034649   \n",
       "min       1.000000    12.857143     0.021556     0.044526     0.000000   \n",
       "25%     300.750000    67.563000     0.053943     0.060344     0.015101   \n",
       "50%     600.500000    79.872000     0.060642     0.075184     0.044692   \n",
       "75%     900.250000    96.000000     0.066849     0.095190     0.083032   \n",
       "max    1200.000000   160.500000     0.095317     0.145577     0.120160   \n",
       "\n",
       "             QRseg        QTseg        RSseg        STseg         Tseg  ...  \\\n",
       "count  1200.000000  1200.000000  1200.000000  1200.000000  1200.000000  ...   \n",
       "mean      0.024437     0.141541     0.023800     0.093303     0.102714  ...   \n",
       "std       0.017501     0.029225     0.017175     0.013332     0.022594  ...   \n",
       "min       0.000000     0.098761     0.000000     0.052338     0.034936  ...   \n",
       "25%       0.007804     0.116016     0.007143     0.089423     0.090046  ...   \n",
       "50%       0.022676     0.137019     0.021965     0.097825     0.099210  ...   \n",
       "75%       0.041915     0.166314     0.041097     0.101200     0.112408  ...   \n",
       "max       0.065278     0.211111     0.058333     0.138444     0.198413  ...   \n",
       "\n",
       "              SDSD        RMSSD      QRSarea      QRSperi      PQslope  \\\n",
       "count  1200.000000  1200.000000  1200.000000  1200.000000  1200.000000   \n",
       "mean     42.484060   199.417894     7.675047    23.915846    -0.071647   \n",
       "std     105.722123   112.292014     8.452832    25.070324     0.049705   \n",
       "min       0.800624    61.711281     0.000000     0.000000    -0.219938   \n",
       "25%       4.060951   123.147741     0.000000     0.124186    -0.106660   \n",
       "50%      11.265829   183.603851     5.228299    19.904060    -0.058518   \n",
       "75%      44.785825   248.101035    14.355389    46.194325    -0.027685   \n",
       "max    1725.927603  1478.488460    33.131007    86.577082    -0.005427   \n",
       "\n",
       "          QRslope     RSslope      STslope         NN50        pNN50  \n",
       "count  432.000000  431.000000  1200.000000  1200.000000  1200.000000  \n",
       "mean     0.141737   -0.150496     0.041659     6.442500     8.112425  \n",
       "std      0.073086    0.077532     0.026456     7.748445    10.325033  \n",
       "min      0.028660   -0.315525     0.008183     0.000000     0.000000  \n",
       "25%      0.082613   -0.240304     0.023853     1.000000     0.613497  \n",
       "50%      0.108418   -0.116241     0.034460     3.000000     3.680982  \n",
       "75%      0.229659   -0.087565     0.049778    10.000000    12.883436  \n",
       "max      0.270786   -0.027983     0.164633    37.000000    52.727273  \n",
       "\n",
       "[8 rows x 55 columns]"
      ]
     },
     "execution_count": 7,
     "metadata": {},
     "output_type": "execute_result"
    }
   ],
   "source": [
    "df.describe()"
   ]
  },
  {
   "cell_type": "markdown",
   "id": "9706b3bd",
   "metadata": {
    "papermill": {
     "duration": 0.009872,
     "end_time": "2024-04-03T05:05:07.891344",
     "exception": false,
     "start_time": "2024-04-03T05:05:07.881472",
     "status": "completed"
    },
    "tags": []
   },
   "source": [
    "# **Data Cleaning**\n",
    "---"
   ]
  },
  {
   "cell_type": "code",
   "execution_count": 8,
   "id": "c9b9c35a",
   "metadata": {
    "execution": {
     "iopub.execute_input": "2024-04-03T05:05:07.914588Z",
     "iopub.status.busy": "2024-04-03T05:05:07.914147Z",
     "iopub.status.idle": "2024-04-03T05:05:07.921921Z",
     "shell.execute_reply": "2024-04-03T05:05:07.920460Z"
    },
    "papermill": {
     "duration": 0.021928,
     "end_time": "2024-04-03T05:05:07.924545",
     "exception": false,
     "start_time": "2024-04-03T05:05:07.902617",
     "status": "completed"
    },
    "tags": []
   },
   "outputs": [],
   "source": [
    "df = df.drop(\"RECORD\", axis = 1)"
   ]
  },
  {
   "cell_type": "code",
   "execution_count": 9,
   "id": "e9290e84",
   "metadata": {
    "execution": {
     "iopub.execute_input": "2024-04-03T05:05:07.946619Z",
     "iopub.status.busy": "2024-04-03T05:05:07.946224Z",
     "iopub.status.idle": "2024-04-03T05:05:07.956808Z",
     "shell.execute_reply": "2024-04-03T05:05:07.955751Z"
    },
    "papermill": {
     "duration": 0.024825,
     "end_time": "2024-04-03T05:05:07.959413",
     "exception": false,
     "start_time": "2024-04-03T05:05:07.934588",
     "status": "completed"
    },
    "tags": []
   },
   "outputs": [
    {
     "data": {
      "text/plain": [
       "hbpermin        0\n",
       "Pseg            0\n",
       "PQseg           0\n",
       "QRSseg          0\n",
       "QRseg           0\n",
       "QTseg           0\n",
       "RSseg           0\n",
       "STseg           0\n",
       "Tseg            0\n",
       "PTseg           0\n",
       "ECGseg          0\n",
       "QRtoQSdur     769\n",
       "RStoQSdur     769\n",
       "RRmean          0\n",
       "PPmean          0\n",
       "PQdis           0\n",
       "PonQdis         0\n",
       "PRdis           0\n",
       "PonRdis         0\n",
       "PSdis           0\n",
       "PonSdis         0\n",
       "PTdis           0\n",
       "PonTdis         0\n",
       "PToffdis        0\n",
       "QRdis           0\n",
       "QSdis           0\n",
       "QTdis           0\n",
       "QToffdis        0\n",
       "RSdis           0\n",
       "RTdis           0\n",
       "RToffdis        0\n",
       "STdis           0\n",
       "SToffdis        0\n",
       "PonToffdis      0\n",
       "PonPQang      557\n",
       "PQRang        768\n",
       "QRSang        769\n",
       "RSTang        769\n",
       "STToffang     426\n",
       "RRTot           0\n",
       "NNTot           0\n",
       "SDRR            0\n",
       "IBIM            0\n",
       "IBISD           0\n",
       "SDSD            0\n",
       "RMSSD           0\n",
       "QRSarea         0\n",
       "QRSperi         0\n",
       "PQslope         0\n",
       "QRslope       768\n",
       "RSslope       769\n",
       "STslope         0\n",
       "NN50            0\n",
       "pNN50           0\n",
       "ECG_signal      0\n",
       "dtype: int64"
      ]
     },
     "execution_count": 9,
     "metadata": {},
     "output_type": "execute_result"
    }
   ],
   "source": [
    "df.isnull().sum()"
   ]
  },
  {
   "cell_type": "code",
   "execution_count": 10,
   "id": "88e3e8aa",
   "metadata": {
    "execution": {
     "iopub.execute_input": "2024-04-03T05:05:07.981967Z",
     "iopub.status.busy": "2024-04-03T05:05:07.981560Z",
     "iopub.status.idle": "2024-04-03T05:05:08.011498Z",
     "shell.execute_reply": "2024-04-03T05:05:08.010302Z"
    },
    "papermill": {
     "duration": 0.044916,
     "end_time": "2024-04-03T05:05:08.014603",
     "exception": false,
     "start_time": "2024-04-03T05:05:07.969687",
     "status": "completed"
    },
    "tags": []
   },
   "outputs": [],
   "source": [
    "# Removing null values and filling with median\n",
    "df_clean = df.iloc[:, :-1].fillna(df.iloc[:, :-1].median())\n",
    "\n",
    "# Joining the two dataframes vertically\n",
    "df = pd.concat([df_clean, df.iloc[:, -1]], axis=1)"
   ]
  },
  {
   "cell_type": "code",
   "execution_count": 11,
   "id": "37a9f913",
   "metadata": {
    "execution": {
     "iopub.execute_input": "2024-04-03T05:05:08.036880Z",
     "iopub.status.busy": "2024-04-03T05:05:08.036473Z",
     "iopub.status.idle": "2024-04-03T05:05:08.046892Z",
     "shell.execute_reply": "2024-04-03T05:05:08.045627Z"
    },
    "papermill": {
     "duration": 0.02468,
     "end_time": "2024-04-03T05:05:08.049381",
     "exception": false,
     "start_time": "2024-04-03T05:05:08.024701",
     "status": "completed"
    },
    "tags": []
   },
   "outputs": [
    {
     "data": {
      "text/plain": [
       "hbpermin      0\n",
       "Pseg          0\n",
       "PQseg         0\n",
       "QRSseg        0\n",
       "QRseg         0\n",
       "QTseg         0\n",
       "RSseg         0\n",
       "STseg         0\n",
       "Tseg          0\n",
       "PTseg         0\n",
       "ECGseg        0\n",
       "QRtoQSdur     0\n",
       "RStoQSdur     0\n",
       "RRmean        0\n",
       "PPmean        0\n",
       "PQdis         0\n",
       "PonQdis       0\n",
       "PRdis         0\n",
       "PonRdis       0\n",
       "PSdis         0\n",
       "PonSdis       0\n",
       "PTdis         0\n",
       "PonTdis       0\n",
       "PToffdis      0\n",
       "QRdis         0\n",
       "QSdis         0\n",
       "QTdis         0\n",
       "QToffdis      0\n",
       "RSdis         0\n",
       "RTdis         0\n",
       "RToffdis      0\n",
       "STdis         0\n",
       "SToffdis      0\n",
       "PonToffdis    0\n",
       "PonPQang      0\n",
       "PQRang        0\n",
       "QRSang        0\n",
       "RSTang        0\n",
       "STToffang     0\n",
       "RRTot         0\n",
       "NNTot         0\n",
       "SDRR          0\n",
       "IBIM          0\n",
       "IBISD         0\n",
       "SDSD          0\n",
       "RMSSD         0\n",
       "QRSarea       0\n",
       "QRSperi       0\n",
       "PQslope       0\n",
       "QRslope       0\n",
       "RSslope       0\n",
       "STslope       0\n",
       "NN50          0\n",
       "pNN50         0\n",
       "ECG_signal    0\n",
       "dtype: int64"
      ]
     },
     "execution_count": 11,
     "metadata": {},
     "output_type": "execute_result"
    }
   ],
   "source": [
    "df.isnull().sum()"
   ]
  },
  {
   "cell_type": "code",
   "execution_count": 12,
   "id": "386016ba",
   "metadata": {
    "execution": {
     "iopub.execute_input": "2024-04-03T05:05:08.072933Z",
     "iopub.status.busy": "2024-04-03T05:05:08.072527Z",
     "iopub.status.idle": "2024-04-03T05:05:08.079238Z",
     "shell.execute_reply": "2024-04-03T05:05:08.078100Z"
    },
    "papermill": {
     "duration": 0.021375,
     "end_time": "2024-04-03T05:05:08.081667",
     "exception": false,
     "start_time": "2024-04-03T05:05:08.060292",
     "status": "completed"
    },
    "tags": []
   },
   "outputs": [
    {
     "data": {
      "text/plain": [
       "(1200, 55)"
      ]
     },
     "execution_count": 12,
     "metadata": {},
     "output_type": "execute_result"
    }
   ],
   "source": [
    "df.shape"
   ]
  },
  {
   "cell_type": "markdown",
   "id": "ea40645c",
   "metadata": {
    "papermill": {
     "duration": 0.012014,
     "end_time": "2024-04-03T05:05:08.104589",
     "exception": false,
     "start_time": "2024-04-03T05:05:08.092575",
     "status": "completed"
    },
    "tags": []
   },
   "source": [
    "# **Data Visualization**\n",
    "---"
   ]
  },
  {
   "cell_type": "markdown",
   "id": "34abea42",
   "metadata": {
    "papermill": {
     "duration": 0.010367,
     "end_time": "2024-04-03T05:05:08.125907",
     "exception": false,
     "start_time": "2024-04-03T05:05:08.115540",
     "status": "completed"
    },
    "tags": []
   },
   "source": [
    "## **Plotting countplot**"
   ]
  },
  {
   "cell_type": "code",
   "execution_count": 13,
   "id": "d5bd5bfb",
   "metadata": {
    "execution": {
     "iopub.execute_input": "2024-04-03T05:05:08.150021Z",
     "iopub.status.busy": "2024-04-03T05:05:08.149620Z",
     "iopub.status.idle": "2024-04-03T05:05:08.589021Z",
     "shell.execute_reply": "2024-04-03T05:05:08.587795Z"
    },
    "papermill": {
     "duration": 0.454747,
     "end_time": "2024-04-03T05:05:08.592101",
     "exception": false,
     "start_time": "2024-04-03T05:05:08.137354",
     "status": "completed"
    },
    "tags": []
   },
   "outputs": [
    {
     "data": {
      "image/png": "[encoded data removed]",
      "text/plain": [
       "<Figure size 1000x600 with 1 Axes>"
      ]
     },
     "metadata": {},
     "output_type": "display_data"
    }
   ],
   "source": [
    "# creating a bar plot for the ECG_signal column\n",
    "plt.figure(figsize=(10, 6))\n",
    "ax = sns.countplot(x='ECG_signal', data=df)\n",
    "\n",
    "# adding annotations to the bars\n",
    "for p in ax.patches:\n",
    "    ax.annotate(f'{p.get_height()}', (p.get_x() + p.get_width() / 2., p.get_height()), \n",
    "                ha='center', va='center', fontsize=11, color='black', xytext=(0, 5), \n",
    "                textcoords='offset points')\n",
    "\n",
    "plt.title('Distribution of ECG Signal Types', fontweight = 'bold')\n",
    "plt.xlabel(\"Ailments\", fontweight = 'bold')\n",
    "plt.ylabel(\"Total Counts\", fontweight = 'bold')\n",
    "plt.ylim(250,305)\n",
    "plt.show()"
   ]
  },
  {
   "cell_type": "markdown",
   "id": "777c47d7",
   "metadata": {
    "papermill": {
     "duration": 0.010555,
     "end_time": "2024-04-03T05:05:08.614518",
     "exception": false,
     "start_time": "2024-04-03T05:05:08.603963",
     "status": "completed"
    },
    "tags": []
   },
   "source": [
    "## **Determining most relevant features**"
   ]
  },
  {
   "cell_type": "markdown",
   "id": "850e7c83",
   "metadata": {
    "papermill": {
     "duration": 0.010568,
     "end_time": "2024-04-03T05:05:08.636265",
     "exception": false,
     "start_time": "2024-04-03T05:05:08.625697",
     "status": "completed"
    },
    "tags": []
   },
   "source": [
    "### **1. Mutual information Classification**\n",
    "Since out dataset contains categorical values as the target variable and negative values in features, we use the`Mutual Information Classification` technique to determine the most relevant features with respect to the target variable."
   ]
  },
  {
   "cell_type": "code",
   "execution_count": 14,
   "id": "19883e65",
   "metadata": {
    "execution": {
     "iopub.execute_input": "2024-04-03T05:05:08.661000Z",
     "iopub.status.busy": "2024-04-03T05:05:08.659983Z",
     "iopub.status.idle": "2024-04-03T05:05:08.667521Z",
     "shell.execute_reply": "2024-04-03T05:05:08.666187Z"
    },
    "papermill": {
     "duration": 0.022746,
     "end_time": "2024-04-03T05:05:08.670345",
     "exception": false,
     "start_time": "2024-04-03T05:05:08.647599",
     "status": "completed"
    },
    "tags": []
   },
   "outputs": [],
   "source": [
    "# defining features and target variables\n",
    "X = df.drop(\"ECG_signal\", axis = 1)\n",
    "y = df[\"ECG_signal\"]"
   ]
  },
  {
   "cell_type": "code",
   "execution_count": 15,
   "id": "0b440d05",
   "metadata": {
    "execution": {
     "iopub.execute_input": "2024-04-03T05:05:08.695354Z",
     "iopub.status.busy": "2024-04-03T05:05:08.694299Z",
     "iopub.status.idle": "2024-04-03T05:05:09.762102Z",
     "shell.execute_reply": "2024-04-03T05:05:09.760376Z"
    },
    "papermill": {
     "duration": 1.084855,
     "end_time": "2024-04-03T05:05:09.766173",
     "exception": false,
     "start_time": "2024-04-03T05:05:08.681318",
     "status": "completed"
    },
    "tags": []
   },
   "outputs": [
    {
     "name": "stdout",
     "output_type": "stream",
     "text": [
      "Index(['NNTot', 'RTdis', 'IBIM', 'QTdis', 'RRmean', 'PTdis', 'PPmean', 'RMSSD',\n",
      "       'PonTdis', 'STdis'],\n",
      "      dtype='object')\n"
     ]
    }
   ],
   "source": [
    "from sklearn.feature_selection import mutual_info_classif\n",
    "\n",
    "# Compute mutual information between each feature and the categorical target variable\n",
    "mutual_info = mutual_info_classif(X, y)\n",
    "\n",
    "# Select top features based on mutual information scores\n",
    "top_features_indices = (-mutual_info).argsort()[:10]  # Select top 3 features\n",
    "mutual_top_features = X.columns[top_features_indices]\n",
    "print(mutual_top_features)"
   ]
  },
  {
   "cell_type": "markdown",
   "id": "66b8544b",
   "metadata": {
    "papermill": {
     "duration": 0.012545,
     "end_time": "2024-04-03T05:05:09.792451",
     "exception": false,
     "start_time": "2024-04-03T05:05:09.779906",
     "status": "completed"
    },
    "tags": []
   },
   "source": [
    "### **2. Random Tree Classifier**\n",
    "We can also use `Random Tree Classifier` to determine the most relevant features."
   ]
  },
  {
   "cell_type": "code",
   "execution_count": 16,
   "id": "f6e7b619",
   "metadata": {
    "execution": {
     "iopub.execute_input": "2024-04-03T05:05:09.817222Z",
     "iopub.status.busy": "2024-04-03T05:05:09.816733Z",
     "iopub.status.idle": "2024-04-03T05:05:10.576991Z",
     "shell.execute_reply": "2024-04-03T05:05:10.575740Z"
    },
    "papermill": {
     "duration": 0.776651,
     "end_time": "2024-04-03T05:05:10.580465",
     "exception": false,
     "start_time": "2024-04-03T05:05:09.803814",
     "status": "completed"
    },
    "tags": []
   },
   "outputs": [
    {
     "name": "stdout",
     "output_type": "stream",
     "text": [
      "Index(['NNTot', 'IBIM', 'QTdis', 'RToffdis', 'RTdis', 'IBISD', 'STdis',\n",
      "       'RMSSD', 'RRTot', 'RRmean'],\n",
      "      dtype='object')\n"
     ]
    }
   ],
   "source": [
    "from sklearn.ensemble import RandomForestClassifier\n",
    "\n",
    "# Train a RandomForestClassifier model\n",
    "model = RandomForestClassifier()\n",
    "model.fit(X, y)\n",
    "\n",
    "# Extract feature importances\n",
    "feature_importances = model.feature_importances_\n",
    "\n",
    "# Select top features based on feature importances\n",
    "top_features_indices = (-feature_importances).argsort()[:10]  # Select top 3 features\n",
    "tree_top_features = X.columns[top_features_indices]\n",
    "print(tree_top_features)"
   ]
  },
  {
   "cell_type": "code",
   "execution_count": 17,
   "id": "de95bcc5",
   "metadata": {
    "execution": {
     "iopub.execute_input": "2024-04-03T05:05:10.608459Z",
     "iopub.status.busy": "2024-04-03T05:05:10.607951Z",
     "iopub.status.idle": "2024-04-03T05:05:10.615305Z",
     "shell.execute_reply": "2024-04-03T05:05:10.613847Z"
    },
    "papermill": {
     "duration": 0.023108,
     "end_time": "2024-04-03T05:05:10.617869",
     "exception": false,
     "start_time": "2024-04-03T05:05:10.594761",
     "status": "completed"
    },
    "tags": []
   },
   "outputs": [
    {
     "name": "stdout",
     "output_type": "stream",
     "text": [
      "['RTdis', 'RMSSD', 'RRmean', 'IBIM', 'STdis']\n"
     ]
    }
   ],
   "source": [
    "# common relevant features\n",
    "most_relevant_features = list(set(tree_top_features) & set(mutual_top_features))[:5]\n",
    "print(most_relevant_features)"
   ]
  },
  {
   "cell_type": "code",
   "execution_count": null,
   "id": "2d573582",
   "metadata": {
    "papermill": {
     "duration": 0.011222,
     "end_time": "2024-04-03T05:05:10.640768",
     "exception": false,
     "start_time": "2024-04-03T05:05:10.629546",
     "status": "completed"
    },
    "tags": []
   },
   "outputs": [],
   "source": []
  }
 ],
 "metadata": {
  "kaggle": {
   "accelerator": "none",
   "dataSources": [
    {
     "datasetId": 3398420,
     "sourceId": 5917467,
     "sourceType": "datasetVersion"
    }
   ],
   "dockerImageVersionId": 30673,
   "isGpuEnabled": false,
   "isInternetEnabled": true,
   "language": "python",
   "sourceType": "notebook"
  },
  "kernelspec": {
   "display_name": "Python 3",
   "language": "python",
   "name": "python3"
  },
  "language_info": {
   "codemirror_mode": {
    "name": "ipython",
    "version": 3
   },
   "file_extension": ".py",
   "mimetype": "text/x-python",
   "name": "python",
   "nbconvert_exporter": "python",
   "pygments_lexer": "ipython3",
   "version": "3.10.13"
  },
  "papermill": {
   "default_parameters": {},
   "duration": 10.5797,
   "end_time": "2024-04-03T05:05:11.678462",
   "environment_variables": {},
   "exception": null,
   "input_path": "__notebook__.ipynb",
   "output_path": "__notebook__.ipynb",
   "parameters": {},
   "start_time": "2024-04-03T05:05:01.098762",
   "version": "2.5.0"
  }
 },
 "nbformat": 4,
 "nbformat_minor": 5
}
